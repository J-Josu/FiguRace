{
 "cells": [
  {
   "cell_type": "markdown",
   "metadata": {},
   "source": [
    "<h1 align='center'> <b>Data Analysis & Stats</b> </h1>"
   ]
  },
  {
   "cell_type": "markdown",
   "metadata": {},
   "source": [
    "## ***Libreries***\n",
    "\n"
   ]
  },
  {
   "cell_type": "markdown",
   "metadata": {},
   "source": [
    "- <a href=\"https://pandas.pydata.org/\"><img src=\"https://pandas.pydata.org/docs/_static/pandas.svg\" style='height:70px'/></a>\n",
    "- <a href=\"https://matplotlib.org/\"><img src=\"https://matplotlib.org/stable/_static/logo2.svg\" style='height:50px'/></a>"
   ]
  },
  {
   "cell_type": "markdown",
   "metadata": {},
   "source": [
    "## ***Language***"
   ]
  },
  {
   "cell_type": "markdown",
   "metadata": {},
   "source": [
    "- <a href=\"https://www.python.org/\"><img src=\"https://www.python.org/static/img/python-logo.png\" style='height:50px'>"
   ]
  },
  {
   "cell_type": "markdown",
   "metadata": {},
   "source": [
    "## **Manejo de archivos** "
   ]
  },
  {
   "cell_type": "markdown",
   "metadata": {},
   "source": [
    "### ***Imports necesarios***"
   ]
  },
  {
   "cell_type": "code",
   "execution_count": 63,
   "metadata": {},
   "outputs": [],
   "source": [
    "import pandas as pd     \n",
    "import matplotlib.pyplot as plt\n",
    "import os "
   ]
  },
  {
   "cell_type": "markdown",
   "metadata": {},
   "source": [
    "### ***Obtengo la ruta donde se almacena el archivo CSV***"
   ]
  },
  {
   "cell_type": "code",
   "execution_count": 64,
   "metadata": {},
   "outputs": [],
   "source": [
    "FOLDER_PATH = os.path.abspath('..')\n",
    "EVENTS_PATH =  os.path.join(FOLDER_PATH,'src','database','events','events.csv') \n",
    "USERS_JSON_PATH = os.path.join(FOLDER_PATH,'src','database','saves','users.json')"
   ]
  },
  {
   "cell_type": "markdown",
   "metadata": {},
   "source": [
    "### ***Leo el archivo y lo convierto en Data Frame***"
   ]
  },
  {
   "cell_type": "code",
   "execution_count": 65,
   "metadata": {},
   "outputs": [
    {
     "data": {
      "text/html": [
       "<div>\n",
       "<style scoped>\n",
       "    .dataframe tbody tr th:only-of-type {\n",
       "        vertical-align: middle;\n",
       "    }\n",
       "\n",
       "    .dataframe tbody tr th {\n",
       "        vertical-align: top;\n",
       "    }\n",
       "\n",
       "    .dataframe thead th {\n",
       "        text-align: right;\n",
       "    }\n",
       "</style>\n",
       "<table border=\"1\" class=\"dataframe\">\n",
       "  <thead>\n",
       "    <tr style=\"text-align: right;\">\n",
       "      <th></th>\n",
       "      <th>timestamp</th>\n",
       "      <th>id</th>\n",
       "      <th>usuarie</th>\n",
       "      <th>genero</th>\n",
       "      <th>nivel</th>\n",
       "      <th>cantidad a adivinar</th>\n",
       "      <th>evento</th>\n",
       "      <th>estado</th>\n",
       "      <th>correcta</th>\n",
       "      <th>respuesta</th>\n",
       "    </tr>\n",
       "  </thead>\n",
       "  <tbody>\n",
       "    <tr>\n",
       "      <th>0</th>\n",
       "      <td>1.655595e+09</td>\n",
       "      <td>7a7483ca51dc463e929c7137e9677e73</td>\n",
       "      <td>Lucas</td>\n",
       "      <td>Man</td>\n",
       "      <td>Personalizada</td>\n",
       "      <td>3</td>\n",
       "      <td>inicio_partida</td>\n",
       "      <td>NaN</td>\n",
       "      <td>NaN</td>\n",
       "      <td>NaN</td>\n",
       "    </tr>\n",
       "    <tr>\n",
       "      <th>1</th>\n",
       "      <td>1.655595e+09</td>\n",
       "      <td>7a7483ca51dc463e929c7137e9677e73</td>\n",
       "      <td>Lucas</td>\n",
       "      <td>Man</td>\n",
       "      <td>Personalizada</td>\n",
       "      <td>3</td>\n",
       "      <td>intento</td>\n",
       "      <td>error</td>\n",
       "      <td>Mauro Arambarri</td>\n",
       "      <td>Sebastian Holmén</td>\n",
       "    </tr>\n",
       "    <tr>\n",
       "      <th>2</th>\n",
       "      <td>1.655595e+09</td>\n",
       "      <td>7a7483ca51dc463e929c7137e9677e73</td>\n",
       "      <td>Lucas</td>\n",
       "      <td>Man</td>\n",
       "      <td>Personalizada</td>\n",
       "      <td>3</td>\n",
       "      <td>intento</td>\n",
       "      <td>error</td>\n",
       "      <td>Mauro Arambarri</td>\n",
       "      <td>Ismail Ahmed</td>\n",
       "    </tr>\n",
       "    <tr>\n",
       "      <th>3</th>\n",
       "      <td>1.655595e+09</td>\n",
       "      <td>7a7483ca51dc463e929c7137e9677e73</td>\n",
       "      <td>Lucas</td>\n",
       "      <td>Man</td>\n",
       "      <td>Personalizada</td>\n",
       "      <td>3</td>\n",
       "      <td>intento</td>\n",
       "      <td>error</td>\n",
       "      <td>Mauro Arambarri</td>\n",
       "      <td>Ander Guevara</td>\n",
       "    </tr>\n",
       "    <tr>\n",
       "      <th>4</th>\n",
       "      <td>1.655595e+09</td>\n",
       "      <td>7a7483ca51dc463e929c7137e9677e73</td>\n",
       "      <td>Lucas</td>\n",
       "      <td>Man</td>\n",
       "      <td>Personalizada</td>\n",
       "      <td>3</td>\n",
       "      <td>intento</td>\n",
       "      <td>ok</td>\n",
       "      <td>Mauro Arambarri</td>\n",
       "      <td>Mauro Arambarri</td>\n",
       "    </tr>\n",
       "  </tbody>\n",
       "</table>\n",
       "</div>"
      ],
      "text/plain": [
       "      timestamp                                id usuarie genero  \\\n",
       "0  1.655595e+09  7a7483ca51dc463e929c7137e9677e73   Lucas    Man   \n",
       "1  1.655595e+09  7a7483ca51dc463e929c7137e9677e73   Lucas    Man   \n",
       "2  1.655595e+09  7a7483ca51dc463e929c7137e9677e73   Lucas    Man   \n",
       "3  1.655595e+09  7a7483ca51dc463e929c7137e9677e73   Lucas    Man   \n",
       "4  1.655595e+09  7a7483ca51dc463e929c7137e9677e73   Lucas    Man   \n",
       "\n",
       "           nivel  cantidad a adivinar          evento estado         correcta  \\\n",
       "0  Personalizada                    3  inicio_partida    NaN              NaN   \n",
       "1  Personalizada                    3         intento  error  Mauro Arambarri   \n",
       "2  Personalizada                    3         intento  error  Mauro Arambarri   \n",
       "3  Personalizada                    3         intento  error  Mauro Arambarri   \n",
       "4  Personalizada                    3         intento     ok  Mauro Arambarri   \n",
       "\n",
       "          respuesta  \n",
       "0               NaN  \n",
       "1  Sebastian Holmén  \n",
       "2      Ismail Ahmed  \n",
       "3     Ander Guevara  \n",
       "4   Mauro Arambarri  "
      ]
     },
     "execution_count": 65,
     "metadata": {},
     "output_type": "execute_result"
    }
   ],
   "source": [
    "if not os.path.exists(EVENTS_PATH):\n",
    "    data_frame = pd.DataFrame(columns= [\"timestamp\",\"id\",\"evento\",\"cantidad a adivinar\",\"usuarie\",\"estado\",\"texto ingresado\",\"respuesta\",\"nivel\"])\n",
    "    print('No se encontro ningun registro de partidas...')\n",
    "else:   \n",
    "    DATA_FRAME = pd.read_csv(EVENTS_PATH,encoding='utf-8')\n",
    "DATA_FRAME.head()"
   ]
  },
  {
   "cell_type": "markdown",
   "metadata": {},
   "source": [
    "### ***Informacion sobre el Data Frame***"
   ]
  },
  {
   "cell_type": "code",
   "execution_count": 66,
   "metadata": {},
   "outputs": [
    {
     "name": "stdout",
     "output_type": "stream",
     "text": [
      "<class 'pandas.core.frame.DataFrame'>\n",
      "RangeIndex: 149 entries, 0 to 148\n",
      "Data columns (total 10 columns):\n",
      " #   Column               Non-Null Count  Dtype  \n",
      "---  ------               --------------  -----  \n",
      " 0   timestamp            149 non-null    float64\n",
      " 1   id                   149 non-null    object \n",
      " 2   usuarie              149 non-null    object \n",
      " 3   genero               149 non-null    object \n",
      " 4   nivel                149 non-null    object \n",
      " 5   cantidad a adivinar  149 non-null    int64  \n",
      " 6   evento               149 non-null    object \n",
      " 7   estado               138 non-null    object \n",
      " 8   correcta             127 non-null    object \n",
      " 9   respuesta            127 non-null    object \n",
      "dtypes: float64(1), int64(1), object(8)\n",
      "memory usage: 11.8+ KB\n"
     ]
    }
   ],
   "source": [
    "DATA_FRAME.info()"
   ]
  },
  {
   "cell_type": "markdown",
   "metadata": {},
   "source": [
    "## **Empezamos a graficar**"
   ]
  },
  {
   "cell_type": "markdown",
   "metadata": {},
   "source": [
    "### Gráfico que muestre el porcentaje de partidas finalizadas según género"
   ]
  },
  {
   "cell_type": "markdown",
   "metadata": {},
   "source": [
    "- ***No quedamos con los datos que nos interesan***"
   ]
  },
  {
   "cell_type": "code",
   "execution_count": 67,
   "metadata": {},
   "outputs": [],
   "source": [
    "sub_df_genders = DATA_FRAME.loc[:,[\"genero\",\"estado\"]]"
   ]
  },
  {
   "cell_type": "markdown",
   "metadata": {},
   "source": [
    "- ***Aplicacamos title case, para no poseer invovenientes a la hora de procesar los generos.***\n",
    "\n",
    "- ***Filtramos la información de estado para obtener las partidas finalizadas***"
   ]
  },
  {
   "cell_type": "code",
   "execution_count": 68,
   "metadata": {},
   "outputs": [],
   "source": [
    "sub_df_genders['genero'] = sub_df_genders['genero'].apply(lambda genero: genero.title())\n",
    "sub_df_genders = sub_df_genders[sub_df_genders['estado']=='finalizada']"
   ]
  },
  {
   "cell_type": "markdown",
   "metadata": {},
   "source": [
    "- ***Obtenos los generos y sus respectivos valores***\n",
    "\n"
   ]
  },
  {
   "cell_type": "code",
   "execution_count": 69,
   "metadata": {},
   "outputs": [],
   "source": [
    "cant_x_gender = sub_df_genders['genero'].value_counts()"
   ]
  },
  {
   "cell_type": "markdown",
   "metadata": {},
   "source": [
    "- **Graficamos**\n",
    "- Parametros - ***Gráfico tipo Pie***\n",
    "  - startangle = Define el angulo del grafico en 90°.\n",
    "  - shadow = Agrega sombra al grafico.\n",
    "  - bbox_to_anchor = Posiciona fuera del grafico sus respectivas leyendas.\n",
    "  - wedgeprops = Por medio de un diccionarios personalizamos el grafico.\n",
    "  - autopct= Agrega el valor porcentual del los datos. \n",
    "    (**% = indica que de tipo porcentual**,\n",
    "    **0.1 = indica la cantidad de decimales agregados**,\n",
    "    **f = para darle formato porcentul** )"
   ]
  },
  {
   "cell_type": "code",
   "execution_count": 70,
   "metadata": {},
   "outputs": [
    {
     "data": {
      "image/png": "[encoded data removed]",
      "text/plain": [
       "<Figure size 432x288 with 1 Axes>"
      ]
     },
     "metadata": {},
     "output_type": "display_data"
    }
   ],
   "source": [
    "plt.pie(cant_x_gender.values,\n",
    "startangle = 90,\n",
    "shadow = True,\n",
    "wedgeprops = {'linewidth': 6},\n",
    "autopct='%0.1f%%')\n",
    "plt.legend(cant_x_gender.index,title='Generos',bbox_to_anchor=(1.05,1),)\n",
    "plt.show()"
   ]
  },
  {
   "cell_type": "markdown",
   "metadata": {},
   "source": [
    "### Gráfico que muestre el porcentaje de partidas finalizadas según género"
   ]
  },
  {
   "cell_type": "markdown",
   "metadata": {},
   "source": [
    "- ***No quedamos con los datos que nos interesan***"
   ]
  },
  {
   "cell_type": "code",
   "execution_count": 71,
   "metadata": {},
   "outputs": [],
   "source": [
    "sub_df_difficulty = DATA_FRAME.loc[:,[\"nivel\",\"estado\"]]"
   ]
  },
  {
   "cell_type": "markdown",
   "metadata": {},
   "source": [
    "- ***Filtramos la información de estado para obtener las partidas finalizadas***"
   ]
  },
  {
   "cell_type": "code",
   "execution_count": 72,
   "metadata": {},
   "outputs": [],
   "source": [
    "sub_df_difficulty = sub_df_difficulty[sub_df_difficulty['estado'] == 'finalizada']"
   ]
  },
  {
   "cell_type": "markdown",
   "metadata": {},
   "source": [
    "- ***Obtenos los niveles de dificuldad y sus respectivos valores***\n",
    "\n"
   ]
  },
  {
   "cell_type": "code",
   "execution_count": 73,
   "metadata": {},
   "outputs": [],
   "source": [
    "cant_x_difficulty = sub_df_difficulty['nivel'].value_counts()"
   ]
  },
  {
   "cell_type": "markdown",
   "metadata": {},
   "source": [
    "- **Graficamos**\n",
    "- Parametros - ***Gráfica tipo Pie***\n",
    "  - startangle = Define el angulo del grafico en 90°.\n",
    "  - shadow = Agrega sombra al grafico.\n",
    "  - bbox_to_anchor = Posiciona fuera del grafico sus respectivas leyendas.\n",
    "  - wedgeprops = Por medio de un diccionarios personalizamos el grafico.\n",
    "  - autopct= Agrega el valor porcentual del los datos. \n",
    "    (**% = indica que de tipo porcentual**,\n",
    "    **0.1 = indica la cantidad de decimales agregados**,\n",
    "    **f = para darle formato porcentul** )"
   ]
  },
  {
   "cell_type": "code",
   "execution_count": 74,
   "metadata": {},
   "outputs": [
    {
     "data": {
      "image/png": "[encoded data removed]",
      "text/plain": [
       "<Figure size 432x288 with 1 Axes>"
      ]
     },
     "metadata": {},
     "output_type": "display_data"
    }
   ],
   "source": [
    "plt.pie(cant_x_difficulty.values,\n",
    "startangle = 90,\n",
    "shadow = True,\n",
    "wedgeprops = {'linewidth': 6},\n",
    "autopct='%0.1f%%')\n",
    "plt.legend(cant_x_difficulty.index,title='Dificultad',bbox_to_anchor=(1.05,1),)\n",
    "plt.show()"
   ]
  },
  {
   "cell_type": "markdown",
   "metadata": {},
   "source": [
    "### Promedio de tiempo de partida general"
   ]
  },
  {
   "cell_type": "code",
   "execution_count": 87,
   "metadata": {},
   "outputs": [
    {
     "name": "stdout",
     "output_type": "stream",
     "text": [
      "12.31 sugundos es el tiempo promedio que dura una partida\n"
     ]
    }
   ],
   "source": [
    "startings = []\n",
    "endings = []\n",
    "for partida in DATA_FRAME.values:\n",
    "    if partida[6] == 'inicio_partida':\n",
    "        startings.append( partida[0])\n",
    "    elif partida[6] == 'fin':\n",
    "        endings.append(partida[0])\n",
    "game_times = []\n",
    "for start,end in zip(startings,endings):\n",
    "    game_times.append((end - start)) \n",
    "total_times = sum(game_times)\n",
    "mean = (total_times / len(game_times))\n",
    "\n",
    "print(f'{round(mean,2)} sugundos es el tiempo promedio que dura una partida')"
   ]
  }
 ],
 "metadata": {
  "interpreter": {
   "hash": "afa0d5e27b2ed1e3a3d36d03a256db13698a7a494fb48a8f7c4b6b08722d0bb1"
  },
  "kernelspec": {
   "display_name": "Python 3.10.5 ('.env': venv)",
   "language": "python",
   "name": "python3"
  },
  "language_info": {
   "codemirror_mode": {
    "name": "ipython",
    "version": 3
   },
   "file_extension": ".py",
   "mimetype": "text/x-python",
   "name": "python",
   "nbconvert_exporter": "python",
   "pygments_lexer": "ipython3",
   "version": "3.10.5"
  },
  "orig_nbformat": 4,
  "vscode": {
   "interpreter": {
    "hash": "fe3fb9be205b8509bfcfe29f3ee2911db9c3670de4136c9ba4f2c3f3ea984e87"
   }
  }
 },
 "nbformat": 4,
 "nbformat_minor": 2
}
