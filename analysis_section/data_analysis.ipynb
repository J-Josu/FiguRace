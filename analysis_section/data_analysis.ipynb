{
 "cells": [
  {
   "cell_type": "markdown",
   "metadata": {},
   "source": [
    "<h1 align='center'> <b>Data Analysis & Stats</b> </h1>"
   ]
  },
  {
   "cell_type": "markdown",
   "metadata": {},
   "source": [
    "## ***Libreries***\n",
    "\n"
   ]
  },
  {
   "cell_type": "markdown",
   "metadata": {},
   "source": [
    "- <a href=\"https://pandas.pydata.org/\"><img src=\"https://pandas.pydata.org/docs/_static/pandas.svg\" style='height:70px'/></a>\n",
    "- <a href=\"https://matplotlib.org/\"><img src=\"https://matplotlib.org/stable/_static/logo2.svg\" style='height:50px'/></a>"
   ]
  },
  {
   "cell_type": "markdown",
   "metadata": {},
   "source": [
    "## ***Language***"
   ]
  },
  {
   "cell_type": "markdown",
   "metadata": {},
   "source": [
    "- <a href=\"https://www.python.org/\"><img src=\"https://www.python.org/static/img/python-logo.png\" style='height:50px'>"
   ]
  },
  {
   "cell_type": "markdown",
   "metadata": {},
   "source": [
    "## **Manejo de archivos** "
   ]
  },
  {
   "cell_type": "markdown",
   "metadata": {},
   "source": [
    "### ***Imports necesarios***"
   ]
  },
  {
   "cell_type": "code",
   "execution_count": null,
   "metadata": {},
   "outputs": [],
   "source": [
    "import pandas as pd     \n",
    "import matplotlib.pyplot as plt\n",
    "import os "
   ]
  },
  {
   "cell_type": "markdown",
   "metadata": {},
   "source": [
    "### ***Obtengo la ruta donde se almacena el archivo CSV***"
   ]
  },
  {
   "cell_type": "code",
   "execution_count": null,
   "metadata": {},
   "outputs": [],
   "source": [
    "FOLDER_PATH = os.path.abspath('..')\n",
    "EVENTS_PATH =  os.path.join(FOLDER_PATH,'src','database','events','events.csv') \n",
    "USERS_JSON_PATH = os.path.join(FOLDER_PATH,'src','database','saves','users.json')"
   ]
  },
  {
   "cell_type": "markdown",
   "metadata": {},
   "source": [
    "### ***Leo el archivo y lo convierto en Data Frame***"
   ]
  },
  {
   "cell_type": "code",
   "execution_count": null,
   "metadata": {},
   "outputs": [],
   "source": [
    "if not os.path.exists(EVENTS_PATH):\n",
    "    data_frame = pd.DataFrame(columns= [\"timestamp\",\"id\",\"evento\",\"cantidad a adivinar\",\"usuarie\",\"estado\",\"texto ingresado\",\"respuesta\",\"nivel\"])\n",
    "    print('No se encontro ningun registro de partidas...')\n",
    "else:   \n",
    "    DATA_FRAME = pd.read_csv(EVENTS_PATH,encoding='utf-8')\n",
    "DATA_FRAME.head()"
   ]
  },
  {
   "cell_type": "markdown",
   "metadata": {},
   "source": [
    "### ***Informacion sobre el Data Frame***"
   ]
  },
  {
   "cell_type": "code",
   "execution_count": null,
   "metadata": {},
   "outputs": [],
   "source": [
    "DATA_FRAME.info()"
   ]
  },
  {
   "cell_type": "markdown",
   "metadata": {},
   "source": [
    "## **Empezamos a graficar**"
   ]
  },
  {
   "cell_type": "markdown",
   "metadata": {},
   "source": [
    "### Gráfico que muestre el porcentaje de partidas finalizadas según género"
   ]
  },
  {
   "cell_type": "markdown",
   "metadata": {},
   "source": [
    "- ***No quedamos con los datos que nos interesan***"
   ]
  },
  {
   "cell_type": "code",
   "execution_count": null,
   "metadata": {},
   "outputs": [],
   "source": [
    "sub_df_genders = DATA_FRAME.loc[:,[\"genero\",\"estado\"]]"
   ]
  },
  {
   "cell_type": "markdown",
   "metadata": {},
   "source": [
    "- ***Aplicacamos title case, para no poseer invovenientes a la hora de procesar los generos.***\n",
    "\n",
    "- ***Filtramos la información de estado para obtener las partidas finalizadas***"
   ]
  },
  {
   "cell_type": "code",
   "execution_count": null,
   "metadata": {},
   "outputs": [],
   "source": [
    "sub_df_genders['genero'] = sub_df_genders['genero'].apply(lambda genero: genero.title())\n",
    "sub_df_genders = sub_df_genders[sub_df_genders['estado']=='finalizada']"
   ]
  },
  {
   "cell_type": "markdown",
   "metadata": {},
   "source": [
    "- ***Obtenos los generos y sus respectivos valores***\n",
    "\n"
   ]
  },
  {
   "cell_type": "code",
   "execution_count": null,
   "metadata": {},
   "outputs": [],
   "source": [
    "cant_x_gender = sub_df_genders['genero'].value_counts()"
   ]
  },
  {
   "cell_type": "markdown",
   "metadata": {},
   "source": [
    "- **Graficamos**\n",
    "- Parametros - ***Gráfico tipo Pie***\n",
    "  - startangle = Define el angulo del grafico en 90°.\n",
    "  - shadow = Agrega sombra al grafico.\n",
    "  - bbox_to_anchor = Posiciona fuera del grafico sus respectivas leyendas.\n",
    "  - wedgeprops = Por medio de un diccionarios personalizamos el grafico.\n",
    "  - autopct= Agrega el valor porcentual del los datos. \n",
    "    (**% = indica que de tipo porcentual**,\n",
    "    **0.1 = indica la cantidad de decimales agregados**,\n",
    "    **f = para darle formato porcentul** )"
   ]
  },
  {
   "cell_type": "code",
   "execution_count": null,
   "metadata": {},
   "outputs": [],
   "source": [
    "plt.pie(cant_x_gender.values,\n",
    "startangle = 90,\n",
    "shadow = True,\n",
    "wedgeprops = {'linewidth': 6},\n",
    "autopct='%0.1f%%')\n",
    "plt.legend(cant_x_gender.index,title='Generos',bbox_to_anchor=(1.05,1),)\n",
    "plt.show()"
   ]
  },
  {
   "cell_type": "markdown",
   "metadata": {},
   "source": [
    "### Gráfico que muestre el porcentaje de partidas finalizadas según género"
   ]
  },
  {
   "cell_type": "markdown",
   "metadata": {},
   "source": [
    "- ***No quedamos con los datos que nos interesan***"
   ]
  },
  {
   "cell_type": "code",
   "execution_count": null,
   "metadata": {},
   "outputs": [],
   "source": [
    "sub_df_difficulty = DATA_FRAME.loc[:,[\"nivel\",\"estado\"]]"
   ]
  },
  {
   "cell_type": "markdown",
   "metadata": {},
   "source": [
    "- ***Filtramos la información de estado para obtener las partidas finalizadas***"
   ]
  },
  {
   "cell_type": "code",
   "execution_count": null,
   "metadata": {},
   "outputs": [],
   "source": [
    "sub_df_difficulty = sub_df_difficulty[sub_df_difficulty['estado'] == 'finalizada']"
   ]
  },
  {
   "cell_type": "markdown",
   "metadata": {},
   "source": [
    "- ***Obtenos los niveles de dificuldad y sus respectivos valores***\n",
    "\n"
   ]
  },
  {
   "cell_type": "code",
   "execution_count": null,
   "metadata": {},
   "outputs": [],
   "source": [
    "cant_x_difficulty = sub_df_difficulty['nivel'].value_counts()"
   ]
  },
  {
   "cell_type": "markdown",
   "metadata": {},
   "source": [
    "- **Graficamos**\n",
    "- Parametros - ***Gráfica tipo Pie***\n",
    "  - startangle = Define el angulo del grafico en 90°.\n",
    "  - shadow = Agrega sombra al grafico.\n",
    "  - bbox_to_anchor = Posiciona fuera del grafico sus respectivas leyendas.\n",
    "  - wedgeprops = Por medio de un diccionarios personalizamos el grafico.\n",
    "  - autopct= Agrega el valor porcentual del los datos. \n",
    "    (**% = indica que de tipo porcentual**,\n",
    "    **0.1 = indica la cantidad de decimales agregados**,\n",
    "    **f = para darle formato porcentul** )"
   ]
  },
  {
   "cell_type": "code",
   "execution_count": null,
   "metadata": {},
   "outputs": [],
   "source": [
    "plt.pie(cant_x_difficulty.values,\n",
    "startangle = 90,\n",
    "shadow = True,\n",
    "wedgeprops = {'linewidth': 6},\n",
    "autopct='%0.1f%%')\n",
    "plt.legend(cant_x_difficulty.index,title='Dificultad',bbox_to_anchor=(1.05,1),)\n",
    "plt.show()"
   ]
  },
  {
   "cell_type": "markdown",
   "metadata": {},
   "source": [
    "### Promedio de tiempo de partida general"
   ]
  },
  {
   "cell_type": "code",
   "execution_count": null,
   "metadata": {},
   "outputs": [],
   "source": [
    "startings = []\n",
    "endings = []\n",
    "for partida in DATA_FRAME.values:\n",
    "    if partida[6] == 'inicio_partida':\n",
    "        startings.append( partida[0])\n",
    "    elif partida[6] == 'fin':\n",
    "        endings.append(partida[0])\n",
    "game_times = []\n",
    "for start,end in zip(startings,endings):\n",
    "    game_times.append((end - start)) \n",
    "total_times = sum(game_times)\n",
    "mean = (total_times / len(game_times))\n",
    "\n",
    "print(f'{round(mean,2)} sugundos es el tiempo promedio que dura una partida')"
   ]
  }
 ],
 "metadata": {
  "kernelspec": {
   "display_name": "Python 3.10.0 ('.env': venv)",
   "language": "python",
   "name": "python3"
  },
  "language_info": {
   "codemirror_mode": {
    "name": "ipython",
    "version": 3
   },
   "file_extension": ".py",
   "mimetype": "text/x-python",
   "name": "python",
   "nbconvert_exporter": "python",
   "pygments_lexer": "ipython3",
   "version": "3.10.0"
  },
  "orig_nbformat": 4,
  "vscode": {
   "interpreter": {
    "hash": "aad7cec922eb0b2518ce6a2b09aba9d2a544c5818565f3c140891ecb3c1431a1"
   }
  }
 },
 "nbformat": 4,
 "nbformat_minor": 2
}
