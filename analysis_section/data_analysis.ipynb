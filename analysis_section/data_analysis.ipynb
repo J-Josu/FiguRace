{
 "cells": [
  {
   "cell_type": "markdown",
   "metadata": {},
   "source": [
    "<h1 align='center'> <b>Data Analysis & Stats</b> </h1>"
   ]
  },
  {
   "cell_type": "markdown",
   "metadata": {},
   "source": [
    "## ***Libreries***\n",
    "\n",
    "- <a href=\"https://pandas.pydata.org/\"><img src=\"https://pandas.pydata.org/docs/_static/pandas.svg\" style='height:70px'/></a>\n",
    "- <a href=\"https://matplotlib.org/\"><img src=\"https://matplotlib.org/stable/_static/logo2.svg\" style='height:50px'/></a>\n",
    "\n",
    "\n",
    "## ***Language***\n",
    "\n",
    "\n",
    "- <a href=\"https://www.python.org/\"><img src=\"https://www.python.org/static/img/python-logo.png\" style='height:50px'>"
   ]
  },
  {
   "cell_type": "code",
   "execution_count": 15,
   "metadata": {},
   "outputs": [],
   "source": [
    "import pandas as pd     \n",
    "import os "
   ]
  },
  {
   "cell_type": "markdown",
   "metadata": {},
   "source": [
    "## Obtengo la ruta donde se almacena el archivo CSV"
   ]
  },
  {
   "cell_type": "code",
   "execution_count": 16,
   "metadata": {},
   "outputs": [
    {
     "data": {
      "text/plain": [
       "'c:\\\\Users\\\\galla\\\\Documents\\\\Facultad\\\\Integrador\\\\grupo27\\\\src\\\\database\\\\events\\\\events.csv'"
      ]
     },
     "execution_count": 16,
     "metadata": {},
     "output_type": "execute_result"
    }
   ],
   "source": [
    "EVENTS_PATH =  os.path.join(os.path.abspath('..'),'src','database','events','events.csv') \n",
    "EVENTS_PATH"
   ]
  },
  {
   "cell_type": "markdown",
   "metadata": {},
   "source": [
    "## Leo el archivo y lo convierto en Data Frame "
   ]
  },
  {
   "cell_type": "code",
   "execution_count": 17,
   "metadata": {},
   "outputs": [
    {
     "data": {
      "text/html": [
       "<div>\n",
       "<style scoped>\n",
       "    .dataframe tbody tr th:only-of-type {\n",
       "        vertical-align: middle;\n",
       "    }\n",
       "\n",
       "    .dataframe tbody tr th {\n",
       "        vertical-align: top;\n",
       "    }\n",
       "\n",
       "    .dataframe thead th {\n",
       "        text-align: right;\n",
       "    }\n",
       "</style>\n",
       "<table border=\"1\" class=\"dataframe\">\n",
       "  <thead>\n",
       "    <tr style=\"text-align: right;\">\n",
       "      <th></th>\n",
       "      <th>id</th>\n",
       "      <th>evento</th>\n",
       "      <th>personas a adivinar</th>\n",
       "      <th>usuarie</th>\n",
       "      <th>estado</th>\n",
       "      <th>texto ingresado</th>\n",
       "      <th>respuesta</th>\n",
       "      <th>nivel</th>\n",
       "    </tr>\n",
       "    <tr>\n",
       "      <th>timestamp</th>\n",
       "      <th></th>\n",
       "      <th></th>\n",
       "      <th></th>\n",
       "      <th></th>\n",
       "      <th></th>\n",
       "      <th></th>\n",
       "      <th></th>\n",
       "      <th></th>\n",
       "    </tr>\n",
       "  </thead>\n",
       "  <tbody>\n",
       "    <tr>\n",
       "      <th>1655329225</th>\n",
       "      <td>cdc08059179d455881d0d78846f03ad2</td>\n",
       "      <td>inicio_partida</td>\n",
       "      <td>10</td>\n",
       "      <td>Josu</td>\n",
       "      <td>-</td>\n",
       "      <td>-</td>\n",
       "      <td>-</td>\n",
       "      <td>Intermedio</td>\n",
       "    </tr>\n",
       "    <tr>\n",
       "      <th>1655329226</th>\n",
       "      <td>f72b677ca19144bc837bc11e32cfb000</td>\n",
       "      <td>intento</td>\n",
       "      <td>10</td>\n",
       "      <td>Josu</td>\n",
       "      <td>ok</td>\n",
       "      <td>César Huanca</td>\n",
       "      <td>Aron Dønnum</td>\n",
       "      <td>Intermedio</td>\n",
       "    </tr>\n",
       "    <tr>\n",
       "      <th>1655329227</th>\n",
       "      <td>aab6718268dd466fbf7f97d79abdee24</td>\n",
       "      <td>intento</td>\n",
       "      <td>10</td>\n",
       "      <td>Josu</td>\n",
       "      <td>error</td>\n",
       "      <td>Timothée Dieng</td>\n",
       "      <td>Aron Dønnum</td>\n",
       "      <td>Intermedio</td>\n",
       "    </tr>\n",
       "    <tr>\n",
       "      <th>1655329228</th>\n",
       "      <td>a3d232a6efb64a5787e24c0cd8277a20</td>\n",
       "      <td>intento</td>\n",
       "      <td>10</td>\n",
       "      <td>Josu</td>\n",
       "      <td>error</td>\n",
       "      <td>Duško Tošic</td>\n",
       "      <td>Loïck Landre</td>\n",
       "      <td>Intermedio</td>\n",
       "    </tr>\n",
       "    <tr>\n",
       "      <th>1655329229</th>\n",
       "      <td>3f29d49c83d9446780fb9fefb5d1785c</td>\n",
       "      <td>intento</td>\n",
       "      <td>10</td>\n",
       "      <td>Josu</td>\n",
       "      <td>ok</td>\n",
       "      <td>Loïck Landre</td>\n",
       "      <td>Cristian González</td>\n",
       "      <td>Intermedio</td>\n",
       "    </tr>\n",
       "  </tbody>\n",
       "</table>\n",
       "</div>"
      ],
      "text/plain": [
       "                                          id          evento  \\\n",
       "timestamp                                                      \n",
       "1655329225  cdc08059179d455881d0d78846f03ad2  inicio_partida   \n",
       "1655329226  f72b677ca19144bc837bc11e32cfb000         intento   \n",
       "1655329227  aab6718268dd466fbf7f97d79abdee24         intento   \n",
       "1655329228  a3d232a6efb64a5787e24c0cd8277a20         intento   \n",
       "1655329229  3f29d49c83d9446780fb9fefb5d1785c         intento   \n",
       "\n",
       "            personas a adivinar usuarie estado texto ingresado  \\\n",
       "timestamp                                                        \n",
       "1655329225                   10    Josu      -               -   \n",
       "1655329226                   10    Josu     ok    César Huanca   \n",
       "1655329227                   10    Josu  error  Timothée Dieng   \n",
       "1655329228                   10    Josu  error     Duško Tošic   \n",
       "1655329229                   10    Josu     ok    Loïck Landre   \n",
       "\n",
       "                    respuesta       nivel  \n",
       "timestamp                                  \n",
       "1655329225                  -  Intermedio  \n",
       "1655329226        Aron Dønnum  Intermedio  \n",
       "1655329227        Aron Dønnum  Intermedio  \n",
       "1655329228       Loïck Landre  Intermedio  \n",
       "1655329229  Cristian González  Intermedio  "
      ]
     },
     "execution_count": 17,
     "metadata": {},
     "output_type": "execute_result"
    }
   ],
   "source": [
    "data_frame = pd.read_csv(EVENTS_PATH,encoding='utf-8',index_col='timestamp')\n",
    "data_frame.head() "
   ]
  },
  {
   "cell_type": "code",
   "execution_count": null,
   "metadata": {},
   "outputs": [],
   "source": []
  },
  {
   "cell_type": "markdown",
   "metadata": {},
   "source": []
  }
 ],
 "metadata": {
  "kernelspec": {
   "display_name": "Python 3.10.3 ('.env': venv)",
   "language": "python",
   "name": "python3"
  },
  "language_info": {
   "codemirror_mode": {
    "name": "ipython",
    "version": 3
   },
   "file_extension": ".py",
   "mimetype": "text/x-python",
   "name": "python",
   "nbconvert_exporter": "python",
   "pygments_lexer": "ipython3",
   "version": "3.10.3"
  },
  "orig_nbformat": 4,
  "vscode": {
   "interpreter": {
    "hash": "fe3fb9be205b8509bfcfe29f3ee2911db9c3670de4136c9ba4f2c3f3ea984e87"
   }
  }
 },
 "nbformat": 4,
 "nbformat_minor": 2
}
