{
 "cells": [
  {
   "cell_type": "markdown",
   "metadata": {},
   "source": [
    "<h1 align='center'> <b>Data Analysis & Graphs</b> </h1>"
   ]
  },
  {
   "cell_type": "markdown",
   "metadata": {},
   "source": [
    "### ***Libreries***\n",
    "\n",
    "<a href=\"https://pandas.pydata.org/\"><img src=\"https://pandas.pydata.org/docs/_static/pandas.svg\" style='height:40px'/>\n",
    "\n",
    "<!-- - [<img src=\"https://matplotlib.org/stable/_static/logo2.svg\" height=\"50\">](https://matplotlib.org/) -->\n",
    "\n",
    "<!-- \n",
    "### ***Language***\n",
    "- [<img src=\"https://www.python.org/static/img/python-logo.png\" height=\"50\">](https://www.python.org/) -->"
   ]
  },
  {
   "cell_type": "code",
   "execution_count": null,
   "metadata": {},
   "outputs": [],
   "source": []
  }
 ],
 "metadata": {
  "language_info": {
   "name": "python"
  },
  "orig_nbformat": 4
 },
 "nbformat": 4,
 "nbformat_minor": 2
}
