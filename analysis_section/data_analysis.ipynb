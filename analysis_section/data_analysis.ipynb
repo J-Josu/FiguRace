{
 "cells": [
  {
   "cell_type": "markdown",
   "metadata": {},
   "source": [
    "<h1 align='center'> <b>Data Analysis & Stats</b> </h1>"
   ]
  },
  {
   "cell_type": "markdown",
   "metadata": {},
   "source": [
    "## ***Libreries***\n",
    "\n",
    "- <a href=\"https://pandas.pydata.org/\"><img src=\"https://pandas.pydata.org/docs/_static/pandas.svg\" style='height:70px'/></a>\n",
    "- <a href=\"https://matplotlib.org/\"><img src=\"https://matplotlib.org/stable/_static/logo2.svg\" style='height:50px'/></a>\n",
    "\n",
    "\n",
    "## ***Language***\n",
    "\n",
    "\n",
    "- <a href=\"https://www.python.org/\"><img src=\"https://www.python.org/static/img/python-logo.png\" style='height:50px'>"
   ]
  },
  {
   "cell_type": "markdown",
   "metadata": {},
   "source": [
    "## **Manejo de archivos** "
   ]
  },
  {
   "cell_type": "markdown",
   "metadata": {},
   "source": [
    "### ***Imports necesarios***"
   ]
  },
  {
   "cell_type": "code",
   "execution_count": 19,
   "metadata": {},
   "outputs": [],
   "source": [
    "import pandas as pd     \n",
    "import os "
   ]
  },
  {
   "cell_type": "markdown",
   "metadata": {},
   "source": [
    "### ***Obtengo la ruta donde se almacena el archivo CSV***"
   ]
  },
  {
   "cell_type": "code",
   "execution_count": 20,
   "metadata": {},
   "outputs": [
    {
     "name": "stdout",
     "output_type": "stream",
     "text": [
      "c:\\Users\\Gallardo\\Documents\\grupo27\\src\\database\\events\\events.csv\n",
      "c:\\Users\\Gallardo\\Documents\\grupo27\\src\\database\\saves\\users.json\n"
     ]
    }
   ],
   "source": [
    "FOLDER_PATH = os.path.abspath('..')\n",
    "EVENTS_PATH =  os.path.join(FOLDER_PATH,'src','database','events','events.csv') \n",
    "print(EVENTS_PATH)\n",
    "USERS_JSON_PATH = os.path.join(FOLDER_PATH,'src','database','saves','users.json')\n",
    "print(USERS_JSON_PATH)\n"
   ]
  },
  {
   "cell_type": "markdown",
   "metadata": {},
   "source": [
    "### ***Leo el archivo y lo convierto en Data Frame***"
   ]
  },
  {
   "cell_type": "code",
   "execution_count": 21,
   "metadata": {},
   "outputs": [
    {
     "data": {
      "text/html": [
       "<div>\n",
       "<style scoped>\n",
       "    .dataframe tbody tr th:only-of-type {\n",
       "        vertical-align: middle;\n",
       "    }\n",
       "\n",
       "    .dataframe tbody tr th {\n",
       "        vertical-align: top;\n",
       "    }\n",
       "\n",
       "    .dataframe thead th {\n",
       "        text-align: right;\n",
       "    }\n",
       "</style>\n",
       "<table border=\"1\" class=\"dataframe\">\n",
       "  <thead>\n",
       "    <tr style=\"text-align: right;\">\n",
       "      <th></th>\n",
       "      <th>id</th>\n",
       "      <th>evento</th>\n",
       "      <th>cantidad a adivinar</th>\n",
       "      <th>usuarie</th>\n",
       "      <th>estado</th>\n",
       "      <th>texto ingresado</th>\n",
       "      <th>respuesta</th>\n",
       "      <th>nivel</th>\n",
       "    </tr>\n",
       "    <tr>\n",
       "      <th>timestamp</th>\n",
       "      <th></th>\n",
       "      <th></th>\n",
       "      <th></th>\n",
       "      <th></th>\n",
       "      <th></th>\n",
       "      <th></th>\n",
       "      <th></th>\n",
       "      <th></th>\n",
       "    </tr>\n",
       "  </thead>\n",
       "  <tbody>\n",
       "    <tr>\n",
       "      <th>1655498735</th>\n",
       "      <td>4bce57d3fa7b42399af22cf863706cd3</td>\n",
       "      <td>inicio_partida</td>\n",
       "      <td>10</td>\n",
       "      <td>Lucas</td>\n",
       "      <td>NaN</td>\n",
       "      <td>NaN</td>\n",
       "      <td>NaN</td>\n",
       "      <td>Intermedio</td>\n",
       "    </tr>\n",
       "    <tr>\n",
       "      <th>1655498737</th>\n",
       "      <td>4bce57d3fa7b42399af22cf863706cd3</td>\n",
       "      <td>intento</td>\n",
       "      <td>10</td>\n",
       "      <td>Lucas</td>\n",
       "      <td>error</td>\n",
       "      <td>Ben Gibson</td>\n",
       "      <td>Kevin Strootman</td>\n",
       "      <td>Intermedio</td>\n",
       "    </tr>\n",
       "    <tr>\n",
       "      <th>1655498739</th>\n",
       "      <td>4bce57d3fa7b42399af22cf863706cd3</td>\n",
       "      <td>intento</td>\n",
       "      <td>10</td>\n",
       "      <td>Lucas</td>\n",
       "      <td>error</td>\n",
       "      <td>Xavier Pinoteau</td>\n",
       "      <td>Kevin Strootman</td>\n",
       "      <td>Intermedio</td>\n",
       "    </tr>\n",
       "    <tr>\n",
       "      <th>1655498740</th>\n",
       "      <td>4bce57d3fa7b42399af22cf863706cd3</td>\n",
       "      <td>intento</td>\n",
       "      <td>10</td>\n",
       "      <td>Lucas</td>\n",
       "      <td>ok</td>\n",
       "      <td>Kevin Strootman</td>\n",
       "      <td>Kevin Strootman</td>\n",
       "      <td>Intermedio</td>\n",
       "    </tr>\n",
       "    <tr>\n",
       "      <th>1655498741</th>\n",
       "      <td>4bce57d3fa7b42399af22cf863706cd3</td>\n",
       "      <td>intento</td>\n",
       "      <td>10</td>\n",
       "      <td>Lucas</td>\n",
       "      <td>ok</td>\n",
       "      <td>Ali Abdullah Hazazi</td>\n",
       "      <td>Ali Abdullah Hazazi</td>\n",
       "      <td>Intermedio</td>\n",
       "    </tr>\n",
       "    <tr>\n",
       "      <th>...</th>\n",
       "      <td>...</td>\n",
       "      <td>...</td>\n",
       "      <td>...</td>\n",
       "      <td>...</td>\n",
       "      <td>...</td>\n",
       "      <td>...</td>\n",
       "      <td>...</td>\n",
       "      <td>...</td>\n",
       "    </tr>\n",
       "    <tr>\n",
       "      <th>1655502494</th>\n",
       "      <td>2d81a977aaa848cfa6bed79c5a500e7c</td>\n",
       "      <td>intento</td>\n",
       "      <td>3</td>\n",
       "      <td>Lucas</td>\n",
       "      <td>ok</td>\n",
       "      <td>Russ Millions</td>\n",
       "      <td>Russ Millions</td>\n",
       "      <td>Personalizada</td>\n",
       "    </tr>\n",
       "    <tr>\n",
       "      <th>1655502505</th>\n",
       "      <td>2d81a977aaa848cfa6bed79c5a500e7c</td>\n",
       "      <td>intento</td>\n",
       "      <td>3</td>\n",
       "      <td>Lucas</td>\n",
       "      <td>ok</td>\n",
       "      <td>Travis Scott</td>\n",
       "      <td>Travis Scott</td>\n",
       "      <td>Personalizada</td>\n",
       "    </tr>\n",
       "    <tr>\n",
       "      <th>1655502528</th>\n",
       "      <td>2d81a977aaa848cfa6bed79c5a500e7c</td>\n",
       "      <td>intento</td>\n",
       "      <td>3</td>\n",
       "      <td>Lucas</td>\n",
       "      <td>error</td>\n",
       "      <td>Khalid</td>\n",
       "      <td>Flo Rida</td>\n",
       "      <td>Personalizada</td>\n",
       "    </tr>\n",
       "    <tr>\n",
       "      <th>1655502530</th>\n",
       "      <td>2d81a977aaa848cfa6bed79c5a500e7c</td>\n",
       "      <td>intento</td>\n",
       "      <td>3</td>\n",
       "      <td>Lucas</td>\n",
       "      <td>ok</td>\n",
       "      <td>Flo Rida</td>\n",
       "      <td>Flo Rida</td>\n",
       "      <td>Personalizada</td>\n",
       "    </tr>\n",
       "    <tr>\n",
       "      <th>1655502530</th>\n",
       "      <td>2d81a977aaa848cfa6bed79c5a500e7c</td>\n",
       "      <td>fin</td>\n",
       "      <td>3</td>\n",
       "      <td>Lucas</td>\n",
       "      <td>finalizada</td>\n",
       "      <td>NaN</td>\n",
       "      <td>NaN</td>\n",
       "      <td>Personalizada</td>\n",
       "    </tr>\n",
       "  </tbody>\n",
       "</table>\n",
       "<p>83 rows × 8 columns</p>\n",
       "</div>"
      ],
      "text/plain": [
       "                                          id          evento  \\\n",
       "timestamp                                                      \n",
       "1655498735  4bce57d3fa7b42399af22cf863706cd3  inicio_partida   \n",
       "1655498737  4bce57d3fa7b42399af22cf863706cd3         intento   \n",
       "1655498739  4bce57d3fa7b42399af22cf863706cd3         intento   \n",
       "1655498740  4bce57d3fa7b42399af22cf863706cd3         intento   \n",
       "1655498741  4bce57d3fa7b42399af22cf863706cd3         intento   \n",
       "...                                      ...             ...   \n",
       "1655502494  2d81a977aaa848cfa6bed79c5a500e7c         intento   \n",
       "1655502505  2d81a977aaa848cfa6bed79c5a500e7c         intento   \n",
       "1655502528  2d81a977aaa848cfa6bed79c5a500e7c         intento   \n",
       "1655502530  2d81a977aaa848cfa6bed79c5a500e7c         intento   \n",
       "1655502530  2d81a977aaa848cfa6bed79c5a500e7c             fin   \n",
       "\n",
       "            cantidad a adivinar usuarie      estado      texto ingresado  \\\n",
       "timestamp                                                                  \n",
       "1655498735                   10   Lucas         NaN                  NaN   \n",
       "1655498737                   10   Lucas       error           Ben Gibson   \n",
       "1655498739                   10   Lucas       error      Xavier Pinoteau   \n",
       "1655498740                   10   Lucas          ok      Kevin Strootman   \n",
       "1655498741                   10   Lucas          ok  Ali Abdullah Hazazi   \n",
       "...                         ...     ...         ...                  ...   \n",
       "1655502494                    3   Lucas          ok        Russ Millions   \n",
       "1655502505                    3   Lucas          ok         Travis Scott   \n",
       "1655502528                    3   Lucas       error               Khalid   \n",
       "1655502530                    3   Lucas          ok             Flo Rida   \n",
       "1655502530                    3   Lucas  finalizada                  NaN   \n",
       "\n",
       "                      respuesta          nivel  \n",
       "timestamp                                       \n",
       "1655498735                  NaN     Intermedio  \n",
       "1655498737      Kevin Strootman     Intermedio  \n",
       "1655498739      Kevin Strootman     Intermedio  \n",
       "1655498740      Kevin Strootman     Intermedio  \n",
       "1655498741  Ali Abdullah Hazazi     Intermedio  \n",
       "...                         ...            ...  \n",
       "1655502494        Russ Millions  Personalizada  \n",
       "1655502505         Travis Scott  Personalizada  \n",
       "1655502528             Flo Rida  Personalizada  \n",
       "1655502530             Flo Rida  Personalizada  \n",
       "1655502530                  NaN  Personalizada  \n",
       "\n",
       "[83 rows x 8 columns]"
      ]
     },
     "execution_count": 21,
     "metadata": {},
     "output_type": "execute_result"
    }
   ],
   "source": [
    "if not os.path.exists(EVENTS_PATH):\n",
    "    data_frame = pd.DataFrame(columns= [\"timestamp\",\"id\",\"evento\",\"cantidad a adivinar\",\"usuarie\",\"estado\",\"texto ingresado\",\"respuesta\",\"nivel\"])\n",
    "    print('No se encontro ningun registro de partidas...')\n",
    "else:   \n",
    "    DATA_FRAME = pd.read_csv(EVENTS_PATH,encoding='utf-8',index_col='timestamp')\n",
    "DATA_FRAME"
   ]
  },
  {
   "cell_type": "markdown",
   "metadata": {},
   "source": [
    "### ***Informacion sobre el Data Frame***"
   ]
  },
  {
   "cell_type": "code",
   "execution_count": null,
   "metadata": {},
   "outputs": [],
   "source": [
    "DATA_FRAME.info()"
   ]
  },
  {
   "cell_type": "markdown",
   "metadata": {},
   "source": [
    "## **Empezamos a graficar**"
   ]
  },
  {
   "cell_type": "markdown",
   "metadata": {},
   "source": [
    "### Top 10 de palabras que se encuentran primero de todas las partidas\n",
    "#### ***Plot - Barh***"
   ]
  },
  {
   "cell_type": "markdown",
   "metadata": {},
   "source": [
    "### Gráfico que muestre el porcentaje de partidas por estado (finalizada, cancelada, error,timeout, acertada). También debe tener en cuenta las partidas que se terminaron inesperadamente o de forma repentina (partidas sin evento de fin).\n"
   ]
  },
  {
   "cell_type": "code",
   "execution_count": null,
   "metadata": {},
   "outputs": [],
   "source": []
  },
  {
   "cell_type": "markdown",
   "metadata": {},
   "source": [
    "### Gráfico que muestre el porcentaje de partidas finalizadas según género"
   ]
  },
  {
   "cell_type": "markdown",
   "metadata": {},
   "source": [
    "#### Obtenemos el diccionario de usuarios"
   ]
  },
  {
   "cell_type": "code",
   "execution_count": 22,
   "metadata": {},
   "outputs": [],
   "source": [
    "import json \n",
    "if not os.path.exists(USERS_JSON_PATH):\n",
    "    print('No se encuentra ningun archivo de registro de usuario')\n",
    "else:\n",
    "    with open(USERS_JSON_PATH,encoding='utf-8') as us_json:\n",
    "        users_dic = json.load(us_json)\n",
    "        if not users_dic:\n",
    "            print(\"No se encuentra ningun usuario registrado\")   "
   ]
  },
  {
   "cell_type": "markdown",
   "metadata": {},
   "source": [
    "#### Obtenemos los generos"
   ]
  },
  {
   "cell_type": "code",
   "execution_count": 23,
   "metadata": {},
   "outputs": [],
   "source": [
    "genders = set()\n",
    "for user in users_dic.values():    \n",
    "   genders.add(user['gender'])"
   ]
  },
  {
   "cell_type": "markdown",
   "metadata": {},
   "source": [
    "### Cantidad de tarjetas en las que el usuarie dió una respuesta errónea."
   ]
  },
  {
   "cell_type": "code",
   "execution_count": 27,
   "metadata": {},
   "outputs": [
    {
     "data": {
      "text/plain": [
       "timestamp\n",
       "1655498735    Lucas\n",
       "1655498737    Lucas\n",
       "1655498739    Lucas\n",
       "1655498740    Lucas\n",
       "1655498741    Lucas\n",
       "              ...  \n",
       "1655502494    Lucas\n",
       "1655502505    Lucas\n",
       "1655502528    Lucas\n",
       "1655502530    Lucas\n",
       "1655502530    Lucas\n",
       "Name: usuarie, Length: 83, dtype: object"
      ]
     },
     "execution_count": 27,
     "metadata": {},
     "output_type": "execute_result"
    }
   ],
   "source": [
    "user_errors = DATA_FRAME['usuarie']\n",
    "user_errors"
   ]
  }
 ],
 "metadata": {
  "interpreter": {
   "hash": "afa0d5e27b2ed1e3a3d36d03a256db13698a7a494fb48a8f7c4b6b08722d0bb1"
  },
  "kernelspec": {
   "display_name": "Python 3.10.5 ('.env': venv)",
   "language": "python",
   "name": "python3"
  },
  "language_info": {
   "codemirror_mode": {
    "name": "ipython",
    "version": 3
   },
   "file_extension": ".py",
   "mimetype": "text/x-python",
   "name": "python",
   "nbconvert_exporter": "python",
   "pygments_lexer": "ipython3",
   "version": "3.10.5"
  },
  "orig_nbformat": 4,
  "vscode": {
   "interpreter": {
    "hash": "fe3fb9be205b8509bfcfe29f3ee2911db9c3670de4136c9ba4f2c3f3ea984e87"
   }
  }
 },
 "nbformat": 4,
 "nbformat_minor": 2
}
