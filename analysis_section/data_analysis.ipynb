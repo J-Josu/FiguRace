{
 "cells": [
  {
   "cell_type": "markdown",
   "metadata": {},
   "source": [
    "<h1 align='center'> <b>Data Analysis & Stats</b> </h1>"
   ]
  },
  {
   "cell_type": "markdown",
   "metadata": {},
   "source": [
    "## ***Librerias***\n",
    "\n"
   ]
  },
  {
   "cell_type": "markdown",
   "metadata": {},
   "source": [
    "- <a href=\"https://pandas.pydata.org/\"><img src=\"https://pandas.pydata.org/docs/_static/pandas.svg\" style='height:70px'/></a>\n",
    "- <a href=\"https://matplotlib.org/\"><img src=\"https://matplotlib.org/stable/_static/logo2.svg\" style='height:50px'/></a>"
   ]
  },
  {
   "cell_type": "markdown",
   "metadata": {},
   "source": [
    "## ***Languaje***"
   ]
  },
  {
   "cell_type": "markdown",
   "metadata": {},
   "source": [
    "- <a href=\"https://www.python.org/\"><img src=\"https://www.python.org/static/img/python-logo.png\" style='height:50px'>"
   ]
  },
  {
   "cell_type": "markdown",
   "metadata": {},
   "source": [
    "## **Manejo de archivos** "
   ]
  },
  {
   "cell_type": "markdown",
   "metadata": {},
   "source": [
    "### ***Imports necesarios***"
   ]
  },
  {
   "cell_type": "code",
   "execution_count": 120,
   "metadata": {},
   "outputs": [],
   "source": [
    "import pandas as pd     \n",
    "import matplotlib.pyplot as plt\n",
    "import numpy as np\n",
    "import os "
   ]
  },
  {
   "cell_type": "markdown",
   "metadata": {},
   "source": [
    "### ***Obtengo la ruta donde se almacena el archivo CSV***"
   ]
  },
  {
   "cell_type": "code",
   "execution_count": 121,
   "metadata": {},
   "outputs": [],
   "source": [
    "FOLDER_PATH = os.path.abspath('..')\n",
    "EVENTS_PATH =  os.path.join(FOLDER_PATH,'src','database','events','events.csv') \n",
    "USERS_JSON_PATH = os.path.join(FOLDER_PATH,'src','database','saves','users.json')"
   ]
  },
  {
   "cell_type": "markdown",
   "metadata": {},
   "source": [
    "### ***Leo el archivo y lo convierto en Data Frame***"
   ]
  },
  {
   "cell_type": "code",
   "execution_count": 122,
   "metadata": {},
   "outputs": [],
   "source": [
    "if not os.path.exists(EVENTS_PATH):\n",
    "    data_frame = pd.DataFrame(columns= [\"timestamp\",\"id\",\"evento\",\"cantidad a adivinar\",\"usuarie\",\"estado\",\"texto ingresado\",\"respuesta\",\"nivel\"])\n",
    "    print('No se encontro ningun registro de partidas...')\n",
    "else:   \n",
    "    DATA_FRAME = pd.read_csv(EVENTS_PATH,encoding='utf-8',keep_default_na='')"
   ]
  },
  {
   "cell_type": "markdown",
   "metadata": {},
   "source": [
    "### ***Informacion sobre el Data Frame***"
   ]
  },
  {
   "cell_type": "code",
   "execution_count": 123,
   "metadata": {},
   "outputs": [
    {
     "name": "stdout",
     "output_type": "stream",
     "text": [
      "<class 'pandas.core.frame.DataFrame'>\n",
      "RangeIndex: 149 entries, 0 to 148\n",
      "Data columns (total 10 columns):\n",
      " #   Column               Non-Null Count  Dtype  \n",
      "---  ------               --------------  -----  \n",
      " 0   timestamp            149 non-null    float64\n",
      " 1   id                   149 non-null    object \n",
      " 2   usuarie              149 non-null    object \n",
      " 3   genero               149 non-null    object \n",
      " 4   nivel                149 non-null    object \n",
      " 5   cantidad a adivinar  149 non-null    int64  \n",
      " 6   evento               149 non-null    object \n",
      " 7   estado               149 non-null    object \n",
      " 8   correcta             149 non-null    object \n",
      " 9   respuesta            149 non-null    object \n",
      "dtypes: float64(1), int64(1), object(8)\n",
      "memory usage: 11.8+ KB\n"
     ]
    }
   ],
   "source": [
    "DATA_FRAME.info()"
   ]
  },
  {
   "cell_type": "markdown",
   "metadata": {},
   "source": [
    "### ***Tamaño del Data Frame***"
   ]
  },
  {
   "cell_type": "markdown",
   "metadata": {},
   "source": [
    "- (Filas,Columnas)"
   ]
  },
  {
   "cell_type": "code",
   "execution_count": 124,
   "metadata": {},
   "outputs": [
    {
     "data": {
      "text/plain": [
       "(149, 10)"
      ]
     },
     "execution_count": 124,
     "metadata": {},
     "output_type": "execute_result"
    }
   ],
   "source": [
    "DATA_FRAME.shape"
   ]
  },
  {
   "cell_type": "markdown",
   "metadata": {},
   "source": [
    "### ***Cosas interesantes***"
   ]
  },
  {
   "cell_type": "markdown",
   "metadata": {},
   "source": [
    "- Obtener los primeros, por defecto son 5"
   ]
  },
  {
   "cell_type": "code",
   "execution_count": 125,
   "metadata": {},
   "outputs": [
    {
     "data": {
      "text/html": [
       "<div>\n",
       "<style scoped>\n",
       "    .dataframe tbody tr th:only-of-type {\n",
       "        vertical-align: middle;\n",
       "    }\n",
       "\n",
       "    .dataframe tbody tr th {\n",
       "        vertical-align: top;\n",
       "    }\n",
       "\n",
       "    .dataframe thead th {\n",
       "        text-align: right;\n",
       "    }\n",
       "</style>\n",
       "<table border=\"1\" class=\"dataframe\">\n",
       "  <thead>\n",
       "    <tr style=\"text-align: right;\">\n",
       "      <th></th>\n",
       "      <th>timestamp</th>\n",
       "      <th>id</th>\n",
       "      <th>usuarie</th>\n",
       "      <th>genero</th>\n",
       "      <th>nivel</th>\n",
       "      <th>cantidad a adivinar</th>\n",
       "      <th>evento</th>\n",
       "      <th>estado</th>\n",
       "      <th>correcta</th>\n",
       "      <th>respuesta</th>\n",
       "    </tr>\n",
       "  </thead>\n",
       "  <tbody>\n",
       "    <tr>\n",
       "      <th>0</th>\n",
       "      <td>1.655933e+09</td>\n",
       "      <td>e35797e3ba6846febc846786eabbbfcd</td>\n",
       "      <td>Lucas</td>\n",
       "      <td>man</td>\n",
       "      <td>Difícil</td>\n",
       "      <td>10</td>\n",
       "      <td>inicio_partida</td>\n",
       "      <td></td>\n",
       "      <td></td>\n",
       "      <td></td>\n",
       "    </tr>\n",
       "    <tr>\n",
       "      <th>1</th>\n",
       "      <td>1.655933e+09</td>\n",
       "      <td>e35797e3ba6846febc846786eabbbfcd</td>\n",
       "      <td>Lucas</td>\n",
       "      <td>man</td>\n",
       "      <td>Difícil</td>\n",
       "      <td>10</td>\n",
       "      <td>intento</td>\n",
       "      <td>ok</td>\n",
       "      <td>Stefan Schimmer</td>\n",
       "      <td>Stefan Schimmer</td>\n",
       "    </tr>\n",
       "    <tr>\n",
       "      <th>2</th>\n",
       "      <td>1.655933e+09</td>\n",
       "      <td>e35797e3ba6846febc846786eabbbfcd</td>\n",
       "      <td>Lucas</td>\n",
       "      <td>man</td>\n",
       "      <td>Difícil</td>\n",
       "      <td>10</td>\n",
       "      <td>intento</td>\n",
       "      <td>ok</td>\n",
       "      <td>Jonathan Borja</td>\n",
       "      <td>Jonathan Borja</td>\n",
       "    </tr>\n",
       "    <tr>\n",
       "      <th>3</th>\n",
       "      <td>1.655933e+09</td>\n",
       "      <td>e35797e3ba6846febc846786eabbbfcd</td>\n",
       "      <td>Lucas</td>\n",
       "      <td>man</td>\n",
       "      <td>Difícil</td>\n",
       "      <td>10</td>\n",
       "      <td>intento</td>\n",
       "      <td>ok</td>\n",
       "      <td>Feiver Mercado</td>\n",
       "      <td>Feiver Mercado</td>\n",
       "    </tr>\n",
       "    <tr>\n",
       "      <th>4</th>\n",
       "      <td>1.655933e+09</td>\n",
       "      <td>e35797e3ba6846febc846786eabbbfcd</td>\n",
       "      <td>Lucas</td>\n",
       "      <td>man</td>\n",
       "      <td>Difícil</td>\n",
       "      <td>10</td>\n",
       "      <td>intento</td>\n",
       "      <td>error</td>\n",
       "      <td>Alexandru Albu</td>\n",
       "      <td>Eray Birniçan</td>\n",
       "    </tr>\n",
       "  </tbody>\n",
       "</table>\n",
       "</div>"
      ],
      "text/plain": [
       "      timestamp                                id usuarie genero    nivel  \\\n",
       "0  1.655933e+09  e35797e3ba6846febc846786eabbbfcd   Lucas    man  Difícil   \n",
       "1  1.655933e+09  e35797e3ba6846febc846786eabbbfcd   Lucas    man  Difícil   \n",
       "2  1.655933e+09  e35797e3ba6846febc846786eabbbfcd   Lucas    man  Difícil   \n",
       "3  1.655933e+09  e35797e3ba6846febc846786eabbbfcd   Lucas    man  Difícil   \n",
       "4  1.655933e+09  e35797e3ba6846febc846786eabbbfcd   Lucas    man  Difícil   \n",
       "\n",
       "   cantidad a adivinar          evento estado         correcta  \\\n",
       "0                   10  inicio_partida                           \n",
       "1                   10         intento     ok  Stefan Schimmer   \n",
       "2                   10         intento     ok   Jonathan Borja   \n",
       "3                   10         intento     ok   Feiver Mercado   \n",
       "4                   10         intento  error   Alexandru Albu   \n",
       "\n",
       "         respuesta  \n",
       "0                   \n",
       "1  Stefan Schimmer  \n",
       "2   Jonathan Borja  \n",
       "3   Feiver Mercado  \n",
       "4    Eray Birniçan  "
      ]
     },
     "execution_count": 125,
     "metadata": {},
     "output_type": "execute_result"
    }
   ],
   "source": [
    "DATA_FRAME.head()"
   ]
  },
  {
   "cell_type": "markdown",
   "metadata": {},
   "source": [
    "- Obtener los ultimos, por defecto son 5"
   ]
  },
  {
   "cell_type": "code",
   "execution_count": 126,
   "metadata": {},
   "outputs": [
    {
     "data": {
      "text/html": [
       "<div>\n",
       "<style scoped>\n",
       "    .dataframe tbody tr th:only-of-type {\n",
       "        vertical-align: middle;\n",
       "    }\n",
       "\n",
       "    .dataframe tbody tr th {\n",
       "        vertical-align: top;\n",
       "    }\n",
       "\n",
       "    .dataframe thead th {\n",
       "        text-align: right;\n",
       "    }\n",
       "</style>\n",
       "<table border=\"1\" class=\"dataframe\">\n",
       "  <thead>\n",
       "    <tr style=\"text-align: right;\">\n",
       "      <th></th>\n",
       "      <th>timestamp</th>\n",
       "      <th>id</th>\n",
       "      <th>usuarie</th>\n",
       "      <th>genero</th>\n",
       "      <th>nivel</th>\n",
       "      <th>cantidad a adivinar</th>\n",
       "      <th>evento</th>\n",
       "      <th>estado</th>\n",
       "      <th>correcta</th>\n",
       "      <th>respuesta</th>\n",
       "    </tr>\n",
       "  </thead>\n",
       "  <tbody>\n",
       "    <tr>\n",
       "      <th>144</th>\n",
       "      <td>1.655944e+09</td>\n",
       "      <td>9d8f620bbcf54680a475b793d62dddec</td>\n",
       "      <td>Lucas</td>\n",
       "      <td>man</td>\n",
       "      <td>Fácil</td>\n",
       "      <td>10</td>\n",
       "      <td>intento</td>\n",
       "      <td>error</td>\n",
       "      <td>Charlie Puth</td>\n",
       "      <td>Snakehips</td>\n",
       "    </tr>\n",
       "    <tr>\n",
       "      <th>145</th>\n",
       "      <td>1.655944e+09</td>\n",
       "      <td>9d8f620bbcf54680a475b793d62dddec</td>\n",
       "      <td>Lucas</td>\n",
       "      <td>man</td>\n",
       "      <td>Fácil</td>\n",
       "      <td>10</td>\n",
       "      <td>intento</td>\n",
       "      <td>error</td>\n",
       "      <td>Maggie Rogers</td>\n",
       "      <td>Charlie Puth</td>\n",
       "    </tr>\n",
       "    <tr>\n",
       "      <th>146</th>\n",
       "      <td>1.655944e+09</td>\n",
       "      <td>9d8f620bbcf54680a475b793d62dddec</td>\n",
       "      <td>Lucas</td>\n",
       "      <td>man</td>\n",
       "      <td>Fácil</td>\n",
       "      <td>10</td>\n",
       "      <td>intento</td>\n",
       "      <td>error</td>\n",
       "      <td>Maggie Rogers</td>\n",
       "      <td>Bastille</td>\n",
       "    </tr>\n",
       "    <tr>\n",
       "      <th>147</th>\n",
       "      <td>1.655944e+09</td>\n",
       "      <td>9d8f620bbcf54680a475b793d62dddec</td>\n",
       "      <td>Lucas</td>\n",
       "      <td>man</td>\n",
       "      <td>Fácil</td>\n",
       "      <td>10</td>\n",
       "      <td>intento</td>\n",
       "      <td>ok</td>\n",
       "      <td>Maggie Rogers</td>\n",
       "      <td>Maggie Rogers</td>\n",
       "    </tr>\n",
       "    <tr>\n",
       "      <th>148</th>\n",
       "      <td>1.655944e+09</td>\n",
       "      <td>9d8f620bbcf54680a475b793d62dddec</td>\n",
       "      <td>Lucas</td>\n",
       "      <td>man</td>\n",
       "      <td>Fácil</td>\n",
       "      <td>10</td>\n",
       "      <td>fin</td>\n",
       "      <td>finalizada</td>\n",
       "      <td></td>\n",
       "      <td></td>\n",
       "    </tr>\n",
       "  </tbody>\n",
       "</table>\n",
       "</div>"
      ],
      "text/plain": [
       "        timestamp                                id usuarie genero  nivel  \\\n",
       "144  1.655944e+09  9d8f620bbcf54680a475b793d62dddec   Lucas    man  Fácil   \n",
       "145  1.655944e+09  9d8f620bbcf54680a475b793d62dddec   Lucas    man  Fácil   \n",
       "146  1.655944e+09  9d8f620bbcf54680a475b793d62dddec   Lucas    man  Fácil   \n",
       "147  1.655944e+09  9d8f620bbcf54680a475b793d62dddec   Lucas    man  Fácil   \n",
       "148  1.655944e+09  9d8f620bbcf54680a475b793d62dddec   Lucas    man  Fácil   \n",
       "\n",
       "     cantidad a adivinar   evento      estado       correcta      respuesta  \n",
       "144                   10  intento       error   Charlie Puth      Snakehips  \n",
       "145                   10  intento       error  Maggie Rogers   Charlie Puth  \n",
       "146                   10  intento       error  Maggie Rogers       Bastille  \n",
       "147                   10  intento          ok  Maggie Rogers  Maggie Rogers  \n",
       "148                   10      fin  finalizada                                "
      ]
     },
     "execution_count": 126,
     "metadata": {},
     "output_type": "execute_result"
    }
   ],
   "source": [
    "DATA_FRAME.tail()"
   ]
  },
  {
   "cell_type": "markdown",
   "metadata": {},
   "source": [
    "## **Empezamos a graficar**"
   ]
  },
  {
   "cell_type": "markdown",
   "metadata": {},
   "source": [
    "### Top 10 de palabras que se encuentran primero de todas las partidas. ***Hacer***"
   ]
  },
  {
   "cell_type": "code",
   "execution_count": null,
   "metadata": {},
   "outputs": [],
   "source": []
  },
  {
   "cell_type": "markdown",
   "metadata": {},
   "source": [
    "### Porcentaje de partidas por estado. ***Preguntar por los porcentajes***"
   ]
  },
  {
   "cell_type": "code",
   "execution_count": 127,
   "metadata": {},
   "outputs": [
    {
     "data": {
      "text/plain": [
       "error         78\n",
       "ok            53\n",
       "finalizada     8\n",
       "cancelada      1\n",
       "Name: estado, dtype: int64"
      ]
     },
     "execution_count": 127,
     "metadata": {},
     "output_type": "execute_result"
    }
   ],
   "source": [
    "sub_df = DATA_FRAME.loc[:,'estado']\n",
    "sub_df = sub_df[lambda estado: estado != '']\n",
    "estados = sub_df.value_counts()\n",
    "estados"
   ]
  },
  {
   "cell_type": "code",
   "execution_count": 128,
   "metadata": {},
   "outputs": [
    {
     "data": {
      "image/png": "[encoded data removed]",
      "text/plain": [
       "<Figure size 432x288 with 1 Axes>"
      ]
     },
     "metadata": {},
     "output_type": "display_data"
    }
   ],
   "source": [
    "plt.pie(estados,\n",
    "startangle = 90,\n",
    "shadow = True,\n",
    "wedgeprops = {'linewidth': 6},\n",
    "autopct='%1.1f%%')\n",
    "plt.legend(estados.index,bbox_to_anchor=(1.05,1))\n",
    "plt.axis('equal')\n",
    "plt.show()"
   ]
  },
  {
   "cell_type": "markdown",
   "metadata": {},
   "source": [
    "### Porcentaje de partidas finalizadas según género"
   ]
  },
  {
   "cell_type": "markdown",
   "metadata": {},
   "source": [
    "- ***No quedamos con los datos que nos interesan***"
   ]
  },
  {
   "cell_type": "code",
   "execution_count": 129,
   "metadata": {},
   "outputs": [],
   "source": [
    "sub_df = DATA_FRAME.loc[:,[\"genero\",\"estado\"]]"
   ]
  },
  {
   "cell_type": "markdown",
   "metadata": {},
   "source": [
    "- ***Aplicacamos title case, para no poseer invovenientes a la hora de procesar los generos.***\n",
    "\n",
    "- ***Filtramos la información de estado para obtener las partidas finalizadas***"
   ]
  },
  {
   "cell_type": "code",
   "execution_count": 130,
   "metadata": {},
   "outputs": [],
   "source": [
    "sub_df['genero'] = sub_df['genero'].apply(lambda genero: genero.title())\n",
    "sub_df = sub_df[sub_df['estado']=='finalizada']"
   ]
  },
  {
   "cell_type": "markdown",
   "metadata": {},
   "source": [
    "- ***Obtenos los generos y sus respectivos valores***\n",
    "\n"
   ]
  },
  {
   "cell_type": "code",
   "execution_count": 131,
   "metadata": {},
   "outputs": [],
   "source": [
    "cant_x_genero = sub_df['genero'].value_counts()"
   ]
  },
  {
   "cell_type": "markdown",
   "metadata": {},
   "source": [
    "- **Graficamos**\n",
    "- Parametros - ***Gráfico tipo Pie***\n",
    "  - startangle = Define el angulo del grafico en 90°.\n",
    "  - shadow = Agrega sombra al grafico.\n",
    "  - bbox_to_anchor = Posiciona fuera del grafico sus respectivas leyendas.\n",
    "  - wedgeprops = Por medio de un diccionarios personalizamos el grafico.\n",
    "  - autopct= Agrega el valor porcentual del los datos. \n",
    "    (**% = indica que de tipo porcentual**,\n",
    "    **0.1 = indica la cantidad de decimales agregados**,\n",
    "    **f = para darle formato porcentul** )"
   ]
  },
  {
   "cell_type": "code",
   "execution_count": 132,
   "metadata": {},
   "outputs": [
    {
     "data": {
      "image/png": "[encoded data removed]",
      "text/plain": [
       "<Figure size 432x288 with 1 Axes>"
      ]
     },
     "metadata": {},
     "output_type": "display_data"
    }
   ],
   "source": [
    "plt.pie(cant_x_genero.values,\n",
    "startangle = 90,\n",
    "shadow = True,\n",
    "wedgeprops = {'linewidth': 6},\n",
    "autopct='%1.1f%%')\n",
    "plt.legend(cant_x_genero.index,title='Generos',bbox_to_anchor=(1.05,1))\n",
    "plt.axis('equal')\n",
    "plt.show()"
   ]
  },
  {
   "cell_type": "markdown",
   "metadata": {},
   "source": [
    "### Porcentaje de partidas finalizadas según el nivel de dificultad"
   ]
  },
  {
   "cell_type": "markdown",
   "metadata": {},
   "source": [
    "- ***No quedamos con los datos que nos interesan***"
   ]
  },
  {
   "cell_type": "code",
   "execution_count": 133,
   "metadata": {},
   "outputs": [],
   "source": [
    "sub_df = DATA_FRAME.loc[:,[\"nivel\",\"estado\"]]"
   ]
  },
  {
   "cell_type": "markdown",
   "metadata": {},
   "source": [
    "- ***Filtramos la información de estado para obtener las partidas finalizadas***"
   ]
  },
  {
   "cell_type": "code",
   "execution_count": 134,
   "metadata": {},
   "outputs": [],
   "source": [
    "sub_df = sub_df[sub_df['estado'] == 'finalizada']"
   ]
  },
  {
   "cell_type": "markdown",
   "metadata": {},
   "source": [
    "- ***Obtenos los niveles de dificuldad y sus respectivos valores***\n",
    "\n"
   ]
  },
  {
   "cell_type": "code",
   "execution_count": 135,
   "metadata": {},
   "outputs": [],
   "source": [
    "cant_x_dificultad = sub_df['nivel'].value_counts()"
   ]
  },
  {
   "cell_type": "markdown",
   "metadata": {},
   "source": [
    "- ***Gráfico tipo Pie*** - Parametros \n",
    "  - startangle = Define el angulo del grafico en 90°.\n",
    "  - shadow = Agrega sombra al grafico.\n",
    "  - bbox_to_anchor = Posiciona fuera del grafico sus respectivas leyendas.\n",
    "  - wedgeprops = Por medio de un diccionarios personalizamos el grafico.\n",
    "  - autopct= Agrega el valor porcentual del los datos. \n",
    "    (**% = indica que de tipo porcentual**,\n",
    "    **0.1 = indica la cantidad de decimales agregados**,\n",
    "    **f = para darle formato porcentul** )"
   ]
  },
  {
   "cell_type": "code",
   "execution_count": 136,
   "metadata": {},
   "outputs": [
    {
     "data": {
      "image/png": "[encoded data removed]",
      "text/plain": [
       "<Figure size 432x288 with 1 Axes>"
      ]
     },
     "metadata": {},
     "output_type": "display_data"
    }
   ],
   "source": [
    "plt.pie(cant_x_dificultad.values,\n",
    "startangle = 90,\n",
    "shadow = True,\n",
    "wedgeprops = {'linewidth': 6},\n",
    "autopct='%1.1f%%')#\n",
    "plt.legend(cant_x_dificultad.index,title='Dificultad',bbox_to_anchor=(1.05,1),)\n",
    "plt.axis('equal')\n",
    "plt.show()"
   ]
  },
  {
   "cell_type": "markdown",
   "metadata": {},
   "source": [
    "### Duración total por partida. "
   ]
  },
  {
   "cell_type": "code",
   "execution_count": 137,
   "metadata": {},
   "outputs": [
    {
     "data": {
      "text/plain": [
       "[1.4, 1.43, 2.05, 1.77, 0.05, 0.16, 0.15, 0.15, 0.69]"
      ]
     },
     "execution_count": 137,
     "metadata": {},
     "output_type": "execute_result"
    }
   ],
   "source": [
    "inicios = []\n",
    "finales = []\n",
    "for partida in DATA_FRAME.iloc:\n",
    "    if partida['evento'] == 'inicio_partida':inicios.append(partida['timestamp'])\n",
    "    elif partida['evento'] == 'fin':finales.append(partida['timestamp'])\n",
    "tiempos_de_partidas = [\n",
    "    round((end - start)/60, 2) \n",
    "    for start,end in zip(inicios,finales)\n",
    "]\n",
    "tiempos_de_partidas"
   ]
  },
  {
   "cell_type": "code",
   "execution_count": 138,
   "metadata": {},
   "outputs": [
    {
     "data": {
      "image/png": "[encoded data removed]",
      "text/plain": [
       "<Figure size 432x288 with 1 Axes>"
      ]
     },
     "metadata": {
      "needs_background": "light"
     },
     "output_type": "display_data"
    }
   ],
   "source": [
    "plt.xlabel('Partidas')\n",
    "plt.ylabel('Minutos')\n",
    "plt.title(f'Duración por partida')\n",
    "plt.plot(tiempos_de_partidas,label='Tiempos',marker= \"*\" if len(tiempos_de_partidas) < 50 else ',',\n",
    "linestyle='',fillstyle='top')\n",
    "plt.legend()\n",
    "plt.show()\n"
   ]
  },
  {
   "cell_type": "markdown",
   "metadata": {},
   "source": [
    "### Tiempo de la respuesta exitosa más rápida."
   ]
  },
  {
   "cell_type": "code",
   "execution_count": 139,
   "metadata": {},
   "outputs": [
    {
     "name": "stdout",
     "output_type": "stream",
     "text": [
      " mejor_tiempo = 1.106 segundos\n"
     ]
    }
   ],
   "source": [
    "sub_df = DATA_FRAME.loc[:,['timestamp','estado','correcta','respuesta']]\n",
    "mejor_tiempo = 10000.0\n",
    "ult_correcta = ''\n",
    "inicio = 0\n",
    "ult_timestamp = 0\n",
    "for intento in sub_df.iloc:\n",
    "    act_time = intento['timestamp']\n",
    "    if (intento['correcta'] == intento['respuesta']):\n",
    "        if (intento['correcta'] != ''):\n",
    "            mejor_tiempo = min(mejor_tiempo, act_time - inicio)\n",
    "        inicio = act_time\n",
    "    elif(intento['correcta'] != ult_correcta):\n",
    "        inicio = ult_timestamp\n",
    "    ult_timestamp = act_time\n",
    "    ult_correcta = intento['correcta']\n",
    "mejor_tiempo = round(mejor_tiempo,4)\n",
    "print(f'{ mejor_tiempo = } segundos')"
   ]
  },
  {
   "cell_type": "code",
   "execution_count": 140,
   "metadata": {},
   "outputs": [
    {
     "data": {
      "image/png": "[encoded data removed]",
      "text/plain": [
       "<Figure size 432x288 with 1 Axes>"
      ]
     },
     "metadata": {},
     "output_type": "display_data"
    }
   ],
   "source": [
    "plt.text(0.5, 0.5, (f'Mejor Tiempo\\n{mejor_tiempo} Segs.'), size=40.,\n",
    "         ha=\"center\", va=\"center\",\n",
    "         c = 'Green'\n",
    "         )\n",
    "plt.xticks([])\n",
    "plt.yticks([])\n",
    "plt.show()"
   ]
  },
  {
   "cell_type": "markdown",
   "metadata": {},
   "source": [
    "### Promedio de tiempo de respuesta para respuestas exitosas."
   ]
  },
  {
   "cell_type": "code",
   "execution_count": 141,
   "metadata": {},
   "outputs": [
    {
     "name": "stdout",
     "output_type": "stream",
     "text": [
      "tiempo_promedio = 8.38 Segundos\n"
     ]
    }
   ],
   "source": [
    "sub_df = DATA_FRAME.loc[:,['timestamp','estado','correcta','respuesta']]\n",
    "tiempos = []\n",
    "ult_correcta = ''\n",
    "inicio = 0\n",
    "ult_timestamp = 0\n",
    "for intento in sub_df.iloc:\n",
    "    act_time = intento['timestamp']\n",
    "    if (intento['correcta'] == intento['respuesta']):\n",
    "        if (intento['correcta'] != ''):\n",
    "            tiempos.append(act_time - inicio) \n",
    "        inicio = act_time\n",
    "    elif(intento['correcta'] != ult_correcta):\n",
    "        inicio = ult_timestamp\n",
    "    ult_timestamp = act_time\n",
    "    ult_correcta = intento['correcta']\n",
    "tiempo_promedio = round(sum(tiempos)/len(tiempos),2)\n",
    "print(f'{tiempo_promedio = } Segundos')"
   ]
  },
  {
   "cell_type": "code",
   "execution_count": 142,
   "metadata": {},
   "outputs": [
    {
     "data": {
      "image/png": "[encoded data removed]",
      "text/plain": [
       "<Figure size 432x288 with 1 Axes>"
      ]
     },
     "metadata": {
      "needs_background": "light"
     },
     "output_type": "display_data"
    }
   ],
   "source": [
    "plt.plot(tiempos,label='Tiempos',marker= '.' if len(tiempos) < 50 else ',')\n",
    "plt.hlines(tiempo_promedio,0,(len(tiempos)-1),label=\"Promedio\",colors='orange')\n",
    "plt.title(f'Tiempos para respuestas exitosas por ronda \\n Promedio: {tiempo_promedio} seg.')\n",
    "plt.xlabel('Rondas')\n",
    "plt.ylabel('Minutos')\n",
    "plt.legend()\n",
    "plt.show()"
   ]
  },
  {
   "cell_type": "markdown",
   "metadata": {},
   "source": [
    "### Promedio de tiempo de partida general."
   ]
  },
  {
   "cell_type": "code",
   "execution_count": 143,
   "metadata": {},
   "outputs": [
    {
     "name": "stdout",
     "output_type": "stream",
     "text": [
      "0.87 minutos es el tiempo promedio que dura una partida\n"
     ]
    }
   ],
   "source": [
    "inicios = []\n",
    "finales = []\n",
    "for partida in DATA_FRAME.iloc:\n",
    "    if partida['evento'] == 'inicio_partida':inicios.append(partida['timestamp'])\n",
    "    elif partida['evento'] == 'fin':finales.append(partida['timestamp'])\n",
    "tiempos_de_partidas = [\n",
    "    round((end - start)/60, 2) \n",
    "    for start,end in zip(inicios,finales)\n",
    "]\n",
    "promedio = round((sum(tiempos_de_partidas)/ len(tiempos_de_partidas)),2)\n",
    "print(f'{promedio} minutos es el tiempo promedio que dura una partida')"
   ]
  },
  {
   "cell_type": "code",
   "execution_count": 144,
   "metadata": {},
   "outputs": [
    {
     "data": {
      "image/png": "[encoded data removed]",
      "text/plain": [
       "<Figure size 432x288 with 1 Axes>"
      ]
     },
     "metadata": {
      "needs_background": "light"
     },
     "output_type": "display_data"
    }
   ],
   "source": [
    "plt.xlabel('Partidas')\n",
    "plt.ylabel('Minutos')\n",
    "plt.title(f'Tiempos de partidas - Promedio: {promedio} mins')\n",
    "plt.plot(tiempos_de_partidas,label='Tiempos',marker= 'o' if len(tiempos_de_partidas) < 50 else ',')\n",
    "plt.hlines(promedio,0,(len(tiempos_de_partidas)-1),label=\"Promedio\",colors='orange')\n",
    "plt.legend()\n",
    "plt.show()"
   ]
  },
  {
   "cell_type": "markdown",
   "metadata": {},
   "source": [
    "### Porcentaje de aciertos por usuarie."
   ]
  },
  {
   "cell_type": "code",
   "execution_count": 145,
   "metadata": {},
   "outputs": [
    {
     "name": "stdout",
     "output_type": "stream",
     "text": [
      "Errores y Aciertos por Usuarie - {'Lucas': (37, 51), 'pepe': (16, 27)}\n"
     ]
    }
   ],
   "source": [
    "sub_df = DATA_FRAME.loc[:,['usuarie','estado']]\n",
    "sub_df = sub_df[(sub_df['estado'] == 'error') | (sub_df['estado'] == 'ok')]\n",
    "intentos_x_usuarie = sub_df.value_counts()\n",
    "intentos_x_usuarie = {\n",
    "    usuarie: tuple(intentos_x_usuarie[usuarie,estado]\n",
    "    for estado in sub_df['estado'].unique()) \n",
    "    for usuarie in sub_df['usuarie'].unique()\n",
    "}\n",
    "print(f\"Errores y Aciertos por Usuarie - {intentos_x_usuarie}\")"
   ]
  },
  {
   "cell_type": "code",
   "execution_count": 146,
   "metadata": {},
   "outputs": [
    {
     "data": {
      "image/png": "[encoded data removed]",
      "text/plain": [
       "<Figure size 432x288 with 1 Axes>"
      ]
     },
     "metadata": {
      "needs_background": "light"
     },
     "output_type": "display_data"
    }
   ],
   "source": [
    "for usuarie,intentos in intentos_x_usuarie.items():\n",
    "    plt.bar_label(plt.bar(usuarie,(intentos[1]/sum(intentos)*100),width=0.5,label=usuarie,),[str(round(intentos[1]/sum(intentos)*100,2)) + '%'])\n",
    "plt.title('Aciertos por usuarie')\n",
    "plt.legend()\n",
    "plt.xlabel('Usuaries')\n",
    "plt.ylabel('Porcentaje %')\n",
    "plt.yticks([x for x in range(101) if x % 10 == 0])    \n",
    "plt.show()"
   ]
  },
  {
   "cell_type": "markdown",
   "metadata": {},
   "source": [
    "### Cantidad de tarjetas para las que el usuarie no dió respuesta (timeout)."
   ]
  },
  {
   "cell_type": "code",
   "execution_count": 147,
   "metadata": {},
   "outputs": [],
   "source": [
    "sub_df = DATA_FRAME.loc[:,['estado','usuarie']]\n",
    "sub_df = sub_df[sub_df['estado'] == 'timeout']\n",
    "timeout_por_usuarie = {\n",
    "    usuarie:sub_df[sub_df['usuarie'] == usuarie]  \n",
    "    for usuarie in sub_df['usuarie'].unique() \n",
    "}"
   ]
  },
  {
   "cell_type": "code",
   "execution_count": 148,
   "metadata": {},
   "outputs": [
    {
     "name": "stderr",
     "output_type": "stream",
     "text": [
      "No artists with labels found to put in legend.  Note that artists whose label start with an underscore are ignored when legend() is called with no argument.\n"
     ]
    },
    {
     "data": {
      "image/png": "[encoded data removed]",
      "text/plain": [
       "<Figure size 432x288 with 1 Axes>"
      ]
     },
     "metadata": {
      "needs_background": "light"
     },
     "output_type": "display_data"
    }
   ],
   "source": [
    "plt.title('Timeouts por usuaries')\n",
    "plt.ylabel('Usuarie')\n",
    "plt.xlabel('Cantidad')\n",
    "for usuario,df in timeout_por_usuarie.items():\n",
    "    plt.bar_label(plt.barh(usuario,len(df.index),height=0.5,label=f\"{usuario}\"),[len(df.index)])\n",
    "plt.legend()\n",
    "plt.show()"
   ]
  },
  {
   "cell_type": "markdown",
   "metadata": {},
   "source": [
    "### Cantidad de tarjetas en las que el usuarie dió una respuesta errónea"
   ]
  },
  {
   "cell_type": "markdown",
   "metadata": {},
   "source": [
    "- Obtenenos los estados para cada uno de los usuarios"
   ]
  },
  {
   "cell_type": "code",
   "execution_count": 149,
   "metadata": {},
   "outputs": [
    {
     "data": {
      "text/plain": [
       "<generator object <genexpr> at 0x000001C2B2983ED0>"
      ]
     },
     "execution_count": 149,
     "metadata": {},
     "output_type": "execute_result"
    }
   ],
   "source": [
    "sub_df = DATA_FRAME.loc[:,['id','estado','usuarie','correcta']]\n",
    "sub_df = sub_df[sub_df['estado'] == 'error']\n",
    "errores_x_usuarie = {\n",
    "    usuarie:sub_df[sub_df['usuarie'] == usuarie] \n",
    "    for usuarie in sub_df['usuarie'].unique()\n",
    "}\n",
    "errores_x_usuarie = (\n",
    "    (usuarie,len(df.value_counts())) \n",
    "    for usuarie,df in errores_x_usuarie.items()\n",
    ")\n",
    "errores_x_usuarie"
   ]
  },
  {
   "cell_type": "code",
   "execution_count": 150,
   "metadata": {},
   "outputs": [
    {
     "data": {
      "image/png": "[encoded data removed]",
      "text/plain": [
       "<Figure size 432x288 with 1 Axes>"
      ]
     },
     "metadata": {
      "needs_background": "light"
     },
     "output_type": "display_data"
    }
   ],
   "source": [
    "plt.title('Cartas con almenos un error')\n",
    "plt.xlabel('Cantidad')\n",
    "plt.ylabel('Usuaries')\n",
    "for usuarie,cant in errores_x_usuarie :\n",
    "    plt.bar_label(plt.barh(usuarie,cant,height=0.5,label=f\"{usuarie}\"),[cant])\n",
    "plt.axis('equal')\n",
    "plt.show()"
   ]
  },
  {
   "cell_type": "markdown",
   "metadata": {},
   "source": [
    "## ***Opcional***"
   ]
  },
  {
   "cell_type": "markdown",
   "metadata": {},
   "source": [
    "### Gráfico que muestre el porcentaje de partidas que se juegan para cada día de la semana. ***Hacer***"
   ]
  },
  {
   "cell_type": "markdown",
   "metadata": {},
   "source": [
    "### Promedio de tiempo de partidas finalizadas por nivel. ***Hacer***"
   ]
  },
  {
   "cell_type": "markdown",
   "metadata": {},
   "source": [
    "### Porcentaje de palabras encontradas en las partidas “timeout, es decir que finalizaron por falta de tiempo para completar. ***Hacer***"
   ]
  }
 ],
 "metadata": {
  "kernelspec": {
   "display_name": "Python 3 (ipykernel)",
   "language": "python",
   "name": "python3"
  },
  "language_info": {
   "codemirror_mode": {
    "name": "ipython",
    "version": 3
   },
   "file_extension": ".py",
   "mimetype": "text/x-python",
   "name": "python",
   "nbconvert_exporter": "python",
   "pygments_lexer": "ipython3",
   "version": "3.10.3"
  },
  "vscode": {
   "interpreter": {
    "hash": "fe3fb9be205b8509bfcfe29f3ee2911db9c3670de4136c9ba4f2c3f3ea984e87"
   }
  }
 },
 "nbformat": 4,
 "nbformat_minor": 2
}
