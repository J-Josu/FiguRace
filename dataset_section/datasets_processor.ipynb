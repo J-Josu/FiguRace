{
 "cells": [
  {
   "cell_type": "markdown",
   "metadata": {},
   "source": [
    "<div align=\"center\">\n",
    "<h1><img src=\"https://media.giphy.com/media/LMt9638dO8dftAjtco/giphy.gif\" style = \"height:38px\"/> Carga de datos <img src=\"https://media.giphy.com/media/TEdRZnV7l3S067fiGR/giphy.gif\" style = \"height:38px\"/></h1>\n",
    "</div>"
   ]
  },
  {
   "cell_type": "markdown",
   "metadata": {},
   "source": [
    "Las tarjetas de FiguRace se generan a partir de un conjunto de datos que deberán ser preparados previamente. Como parte del proyecto se deberá desarrollar un cuaderno de Jupyter Notebook que extraiga los datos necesarios para el juego de alguno de los datasets provistos y muestre en forma detallada el proceso realizado con los mismos . En el Anexo II se detallan los datasets que deberán utilizar para la aplicación y las modificaciones necesarias para luego guardarlo en un nuevo archivo en formato CSV. El juego deberá cargar esos archivos CSV para funcionar"
   ]
  },
  {
   "cell_type": "markdown",
   "metadata": {},
   "source": [
    "<h3 align=\"center\"><img src=\"https://media.giphy.com/media/F3IsWfsR1JMyNmL44Z/giphy.gif\" height=\"38px\" /> Spotify 2010 - 2019 Top 100 <img  src=\"https://media.giphy.com/media/F3IsWfsR1JMyNmL44Z/giphy.gif\" height=\"38px\" /></h3>"
   ]
  },
  {
   "cell_type": "markdown",
   "metadata": {},
   "source": [
    "Deberá adaptar los datos de la siguiente forma:\n",
    "- Poner en `title case` los géneros musicales excepto las siglas EDM, DFW, UK, R&B y LGBTQ+ que deben ir en mayúsculas. Por ejemplo `dfw rap` debe ser transformado a `DFW Rap`.\n",
    "- Considerar también la excepción `k-pop` que debe ser transformada a `K-Pop`.\n",
    "- Se utilizarán como datos de las tarjetas `Top Genre`, `Year Released`, `BPM`, `Top Year` y `Artist Type`. Como dato a adivinar se utilizará `Artist`. Descartar el resto de las columnas.\n",
    "- El archivo resultante deberá tener las siguientes columnas (en este orden específico): `Top Genre`, `Artist Type`, `Year Released`, `Top Year`, `BPM` y `Artist`"
   ]
  },
  {
   "cell_type": "code",
   "execution_count": 15,
   "metadata": {},
   "outputs": [],
   "source": [
    "import os\n",
    "import csv\n",
    "\n",
    "# Solo estos generos van a estar completamente en mayuscula\n",
    "UPPER_GENDERS = [\"EDM\", \"DFW\", \"UK\", \"R&B\", \"LGBTQ+\"] \n",
    "\n",
    "path = os.path.dirname(os.path.realpath(\".\"))\n",
    "path_file = os.path.join(path, \"dataset_section\", \"base_datasets\", 'Spotify_2010-2019_Top_100.csv')\n",
    "path_newfile = os.path.join(path, \"dataset_section\", \"processed_datasets\", 'Spotify.processed.csv')\n",
    "\n",
    "# Solo para guardar los datos a leer\n",
    "with open(path_file,\"r\", encoding=\"utf-8\") as File:  \n",
    "    csv_reader = csv.reader(File, delimiter=',')\n",
    "    datos = list(csv_reader)\n",
    "\n",
    "# Creo el nuevo archivo\n",
    "with open(path_newfile, \"w\",encoding=\"utf-8\",newline='') as NewFile:\n",
    "    csv_writer = csv.writer(NewFile)\n",
    "    for row in datos:\n",
    "        genders = row[2].split()\n",
    "        for index, gender in enumerate(genders):\n",
    "            if gender.upper() in UPPER_GENDERS:\n",
    "                genders[index]= gender.upper()\n",
    "            else:\n",
    "                genders[index]= gender.title()\n",
    "\n",
    "        row[2] = \" \".join(genders)\n",
    "        csv_writer.writerow(row)"
   ]
  },
  {
   "cell_type": "markdown",
   "metadata": {},
   "source": [
    "<h3 align=\"center\"><img src=\"https://media.giphy.com/media/QWrCFpI965negKDo0n/giphy.gif\" height=\"38px\" /> Lagos Argentina - Hoja 1 <img  src=\"https://media.giphy.com/media/QWrCFpI965negKDo0n/giphy.gif\" height=\"38px\" /></h3>\n"
   ]
  },
  {
   "cell_type": "markdown",
   "metadata": {},
   "source": [
    "Deberá adaptar los datos de la siguiente forma:\n",
    "- Transformar las coordenadas en la columna `Coordenadas` a grados decimales.\n",
    "- Se utilizarán como datos de las tarjetas: `Ubicación`, `Superficie (km²)`, `Profundidad máxima (m)`, `Profundidad media (m)`, `Coordenadas`. Como dato a adivinar se utilizará `Nombre`. Descartar el resto de las columnas.\n",
    "- El archivo resultante deberá tener las siguientes columnas (en este orden específico): `Ubicación`, `Superficie (km²)`, `Profundidad máxima (m)`, `Profundidad media (m)`, `Coordenadas` y `Nombre`."
   ]
  },
  {
   "cell_type": "markdown",
   "metadata": {},
   "source": [
    "<h3 align=\"center\"><img src=\"https://media.giphy.com/media/W55QKlBohHZS9RGOWJ/giphy.gif\" height=\"38px\" /> FIFA-21 Complete <img  src=\"https://media.giphy.com/media/W55QKlBohHZS9RGOWJ/giphy.gif\" height=\"38px\" /></h3>"
   ]
  },
  {
   "cell_type": "markdown",
   "metadata": {},
   "source": [
    "Deberá adaptar los datos de la siguiente forma:\n",
    "- Reemplazar `Potential` por la siguiente escala conceptual:\n",
    "  - Regular: Menos de 60\n",
    "  - Bueno: Entre 60 y 79 (inclusive)\n",
    "  - Muy bueno: Entre 80 y 89 (inclusive)\n",
    "  - Sobresaliente: Desde 90 en adelante.\n",
    "- Reemplazar el valor de `Position` por las posiciones en español. Por ejemplo `LB|CB` debe ser reemplazado por `Defensor izquierdo|Defensor central`\n",
    "- Se utilizarán como datos de las tarjetas: `Age`, `Nationality`, `Position`, `Team` y `Potential`. Como dato a adivinar se utilizará `Name`. Descartar el resto de las columnas.\n",
    "- El archivo resultante deberá tener las siguientes columnas (en este orden específico): `Team`, `Nationality`, `Position`, `Age`, `Potential` y `Name`.\n"
   ]
  }
 ],
 "metadata": {
  "interpreter": {
   "hash": "80756411583af035d9a6199794371ea696bdbbbc86d4f210b34cb3d9a731db47"
  },
  "kernelspec": {
   "display_name": "Python 3.10.0 64-bit",
   "language": "python",
   "name": "python3"
  },
  "language_info": {
   "codemirror_mode": {
    "name": "ipython",
    "version": 3
   },
   "file_extension": ".py",
   "mimetype": "text/x-python",
   "name": "python",
   "nbconvert_exporter": "python",
   "pygments_lexer": "ipython3",
   "version": "3.10.0"
  },
  "orig_nbformat": 4
 },
 "nbformat": 4,
 "nbformat_minor": 2
}
